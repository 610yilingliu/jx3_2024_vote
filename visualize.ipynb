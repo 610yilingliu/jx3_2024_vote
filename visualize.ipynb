{
 "cells": [
  {
   "cell_type": "code",
   "execution_count": 9,
   "metadata": {},
   "outputs": [],
   "source": [
    "import pandas as pd\n",
    "import seaborn as sns\n",
    "import matplotlib.pyplot as plt\n",
    "\n",
    "# 设置中文字体\n",
    "plt.rcParams['font.sans-serif'] = ['SimHei']  # 使用黑体\n",
    "plt.rcParams['axes.unicode_minus'] = False  # 解决负号显示问题\n",
    "\n"
   ]
  },
  {
   "cell_type": "code",
   "execution_count": 10,
   "metadata": {},
   "outputs": [],
   "source": [
    "data = pd.read_csv('votes.csv')"
   ]
  },
  {
   "cell_type": "code",
   "execution_count": 11,
   "metadata": {},
   "outputs": [
    {
     "data": {
      "text/html": [
       "<div>\n",
       "<style scoped>\n",
       "    .dataframe tbody tr th:only-of-type {\n",
       "        vertical-align: middle;\n",
       "    }\n",
       "\n",
       "    .dataframe tbody tr th {\n",
       "        vertical-align: top;\n",
       "    }\n",
       "\n",
       "    .dataframe thead th {\n",
       "        text-align: right;\n",
       "    }\n",
       "</style>\n",
       "<table border=\"1\" class=\"dataframe\">\n",
       "  <thead>\n",
       "    <tr style=\"text-align: right;\">\n",
       "      <th></th>\n",
       "      <th>work_id</th>\n",
       "      <th>name</th>\n",
       "      <th>total</th>\n",
       "      <th>rank</th>\n",
       "      <th>fetch_time</th>\n",
       "    </tr>\n",
       "  </thead>\n",
       "  <tbody>\n",
       "    <tr>\n",
       "      <th>0</th>\n",
       "      <td>6</td>\n",
       "      <td>沧蝶泪</td>\n",
       "      <td>26990</td>\n",
       "      <td>1</td>\n",
       "      <td>2024-11-19 14:04</td>\n",
       "    </tr>\n",
       "    <tr>\n",
       "      <th>1</th>\n",
       "      <td>17</td>\n",
       "      <td>见南山</td>\n",
       "      <td>15628</td>\n",
       "      <td>2</td>\n",
       "      <td>2024-11-19 14:04</td>\n",
       "    </tr>\n",
       "    <tr>\n",
       "      <th>2</th>\n",
       "      <td>49</td>\n",
       "      <td>云华九歌</td>\n",
       "      <td>12868</td>\n",
       "      <td>3</td>\n",
       "      <td>2024-11-19 14:04</td>\n",
       "    </tr>\n",
       "    <tr>\n",
       "      <th>3</th>\n",
       "      <td>41</td>\n",
       "      <td>小龙铃</td>\n",
       "      <td>12289</td>\n",
       "      <td>4</td>\n",
       "      <td>2024-11-19 14:04</td>\n",
       "    </tr>\n",
       "    <tr>\n",
       "      <th>4</th>\n",
       "      <td>47</td>\n",
       "      <td>余梦</td>\n",
       "      <td>10953</td>\n",
       "      <td>5</td>\n",
       "      <td>2024-11-19 14:04</td>\n",
       "    </tr>\n",
       "  </tbody>\n",
       "</table>\n",
       "</div>"
      ],
      "text/plain": [
       "   work_id  name  total  rank        fetch_time\n",
       "0        6   沧蝶泪  26990     1  2024-11-19 14:04\n",
       "1       17   见南山  15628     2  2024-11-19 14:04\n",
       "2       49  云华九歌  12868     3  2024-11-19 14:04\n",
       "3       41   小龙铃  12289     4  2024-11-19 14:04\n",
       "4       47    余梦  10953     5  2024-11-19 14:04"
      ]
     },
     "execution_count": 11,
     "metadata": {},
     "output_type": "execute_result"
    }
   ],
   "source": [
    "data.head()"
   ]
  },
  {
   "cell_type": "code",
   "execution_count": null,
   "metadata": {},
   "outputs": [
    {
     "name": "stderr",
     "output_type": "stream",
     "text": [
      "C:\\Users\\yilin\\AppData\\Local\\Temp\\ipykernel_45944\\120411583.py:5: SettingWithCopyWarning: \n",
      "A value is trying to be set on a copy of a slice from a DataFrame.\n",
      "Try using .loc[row_indexer,col_indexer] = value instead\n",
      "\n",
      "See the caveats in the documentation: https://pandas.pydata.org/pandas-docs/stable/user_guide/indexing.html#returning-a-view-versus-a-copy\n",
      "  data_filtered['fetch_time'] = pd.to_datetime(data_filtered['fetch_time'])\n"
     ]
    },
    {
     "data": {
      "image/png": "[encoded data removed]",
      "text/plain": [
       "<Figure size 640x480 with 1 Axes>"
      ]
     },
     "metadata": {},
     "output_type": "display_data"
    }
   ],
   "source": [
    "# 过滤出 work_id 为 6 的数据\n",
    "data_filtered = data[data['work_id'] == 6]\n",
    "\n",
    "# 将 fetch_time 列转换为 datetime 类型\n",
    "data_filtered['fetch_time'] = pd.to_datetime(data_filtered['fetch_time'])\n",
    "\n",
    "# 绘制折线图\n",
    "sns.lineplot(x='fetch_time', y='total', data=data_filtered)\n",
    "plt.title(data_filtered['name'].iloc[0])\n",
    "plt.xlabel('时间')\n",
    "plt.ylabel('票数')\n",
    "plt.show()"
   ]
  }
 ],
 "metadata": {
  "kernelspec": {
   "display_name": "reverse",
   "language": "python",
   "name": "python3"
  },
  "language_info": {
   "codemirror_mode": {
    "name": "ipython",
    "version": 3
   },
   "file_extension": ".py",
   "mimetype": "text/x-python",
   "name": "python",
   "nbconvert_exporter": "python",
   "pygments_lexer": "ipython3",
   "version": "3.12.5"
  }
 },
 "nbformat": 4,
 "nbformat_minor": 2
}
